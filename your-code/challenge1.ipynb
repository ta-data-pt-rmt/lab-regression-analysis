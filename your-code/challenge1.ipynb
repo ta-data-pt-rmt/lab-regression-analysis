{
  "cells": [
    {
      "cell_type": "markdown",
      "metadata": {
        "id": "zSxlNgq0dwCG"
      },
      "source": [
        "# Lab: Regression Analysis"
      ]
    },
    {
      "cell_type": "markdown",
      "metadata": {
        "id": "Bu15unKidwCP"
      },
      "source": [
        "### Before you start:\n",
        "\n",
        "* Read the README.md file\n",
        "* Comment as much as you can and use the resources (README.md file) \n",
        "\n",
        "Happy learning!"
      ]
    },
    {
      "cell_type": "code",
      "execution_count": 1,
      "metadata": {
        "id": "fKHuaUmDdwCR"
      },
      "outputs": [],
      "source": [
        "from sklearn import linear_model\n",
        "from sklearn.linear_model import LinearRegression\n",
        "import pandas as pd\n",
        "import numpy as np\n",
        "from matplotlib import pyplot as plt\n"
      ]
    },
    {
      "cell_type": "code",
      "execution_count": 2,
      "metadata": {
        "id": "k4QaKbuAdwCS"
      },
      "outputs": [],
      "source": [
        "import seaborn as sns"
      ]
    },
    {
      "cell_type": "markdown",
      "metadata": {
        "id": "1nXJHopzdwCT"
      },
      "source": [
        "## Challenge 1\n",
        "I work at a coding bootcamp, and I have developed a theory that the younger my students are, the more often they are late to class. In order to test my hypothesis, I have collected some data in the following table:\n",
        "\n",
        "| StudentID | Age | Tardies |\n",
        "|--------|-----|------------|\n",
        "| 1      | 17  | 10         |\n",
        "| 2      | 51  | 1          |\n",
        "| 3      | 27  | 5          |\n",
        "| 4      | 21  | 9         |\n",
        "| 5      | 36  |  4         |\n",
        "| 6      | 48  |  2         |\n",
        "| 7      | 19  |  9         |\n",
        "| 8      | 26  | 6          |\n",
        "| 9      | 54  |  0         |\n",
        "| 10     | 30  |  3         |"
      ]
    },
    {
      "cell_type": "markdown",
      "metadata": {
        "id": "fznXIddTdwCT"
      },
      "source": [
        "Use this command to create a dataframe with the data provided in the table. \n",
        "~~~~\n",
        "student_data = pd.DataFrame({'X': [x_values], 'Y': [y_values]})\n",
        "~~~~"
      ]
    },
    {
      "cell_type": "code",
      "execution_count": 3,
      "metadata": {
        "colab": {
          "base_uri": "https://localhost:8080/",
          "height": 394
        },
        "id": "TXInfeZxdwCU",
        "outputId": "bb4be0fa-b460-4285-8634-6fef0bf9761f"
      },
      "outputs": [
        {
          "output_type": "execute_result",
          "data": {
            "text/plain": [
              "           Age  Tardies\n",
              "StudentID              \n",
              "1           17       10\n",
              "2           51        1\n",
              "3           27        5\n",
              "4           21        9\n",
              "5           36        4\n",
              "6           48        2\n",
              "7           19        9\n",
              "8           26        6\n",
              "9           54        0\n",
              "10          30        3"
            ],
            "text/html": [
              "\n",
              "  <div id=\"df-da58c08a-2a12-423f-8452-e4edf0540d10\">\n",
              "    <div class=\"colab-df-container\">\n",
              "      <div>\n",
              "<style scoped>\n",
              "    .dataframe tbody tr th:only-of-type {\n",
              "        vertical-align: middle;\n",
              "    }\n",
              "\n",
              "    .dataframe tbody tr th {\n",
              "        vertical-align: top;\n",
              "    }\n",
              "\n",
              "    .dataframe thead th {\n",
              "        text-align: right;\n",
              "    }\n",
              "</style>\n",
              "<table border=\"1\" class=\"dataframe\">\n",
              "  <thead>\n",
              "    <tr style=\"text-align: right;\">\n",
              "      <th></th>\n",
              "      <th>Age</th>\n",
              "      <th>Tardies</th>\n",
              "    </tr>\n",
              "    <tr>\n",
              "      <th>StudentID</th>\n",
              "      <th></th>\n",
              "      <th></th>\n",
              "    </tr>\n",
              "  </thead>\n",
              "  <tbody>\n",
              "    <tr>\n",
              "      <th>1</th>\n",
              "      <td>17</td>\n",
              "      <td>10</td>\n",
              "    </tr>\n",
              "    <tr>\n",
              "      <th>2</th>\n",
              "      <td>51</td>\n",
              "      <td>1</td>\n",
              "    </tr>\n",
              "    <tr>\n",
              "      <th>3</th>\n",
              "      <td>27</td>\n",
              "      <td>5</td>\n",
              "    </tr>\n",
              "    <tr>\n",
              "      <th>4</th>\n",
              "      <td>21</td>\n",
              "      <td>9</td>\n",
              "    </tr>\n",
              "    <tr>\n",
              "      <th>5</th>\n",
              "      <td>36</td>\n",
              "      <td>4</td>\n",
              "    </tr>\n",
              "    <tr>\n",
              "      <th>6</th>\n",
              "      <td>48</td>\n",
              "      <td>2</td>\n",
              "    </tr>\n",
              "    <tr>\n",
              "      <th>7</th>\n",
              "      <td>19</td>\n",
              "      <td>9</td>\n",
              "    </tr>\n",
              "    <tr>\n",
              "      <th>8</th>\n",
              "      <td>26</td>\n",
              "      <td>6</td>\n",
              "    </tr>\n",
              "    <tr>\n",
              "      <th>9</th>\n",
              "      <td>54</td>\n",
              "      <td>0</td>\n",
              "    </tr>\n",
              "    <tr>\n",
              "      <th>10</th>\n",
              "      <td>30</td>\n",
              "      <td>3</td>\n",
              "    </tr>\n",
              "  </tbody>\n",
              "</table>\n",
              "</div>\n",
              "      <button class=\"colab-df-convert\" onclick=\"convertToInteractive('df-da58c08a-2a12-423f-8452-e4edf0540d10')\"\n",
              "              title=\"Convert this dataframe to an interactive table.\"\n",
              "              style=\"display:none;\">\n",
              "        \n",
              "  <svg xmlns=\"http://www.w3.org/2000/svg\" height=\"24px\"viewBox=\"0 0 24 24\"\n",
              "       width=\"24px\">\n",
              "    <path d=\"M0 0h24v24H0V0z\" fill=\"none\"/>\n",
              "    <path d=\"M18.56 5.44l.94 2.06.94-2.06 2.06-.94-2.06-.94-.94-2.06-.94 2.06-2.06.94zm-11 1L8.5 8.5l.94-2.06 2.06-.94-2.06-.94L8.5 2.5l-.94 2.06-2.06.94zm10 10l.94 2.06.94-2.06 2.06-.94-2.06-.94-.94-2.06-.94 2.06-2.06.94z\"/><path d=\"M17.41 7.96l-1.37-1.37c-.4-.4-.92-.59-1.43-.59-.52 0-1.04.2-1.43.59L10.3 9.45l-7.72 7.72c-.78.78-.78 2.05 0 2.83L4 21.41c.39.39.9.59 1.41.59.51 0 1.02-.2 1.41-.59l7.78-7.78 2.81-2.81c.8-.78.8-2.07 0-2.86zM5.41 20L4 18.59l7.72-7.72 1.47 1.35L5.41 20z\"/>\n",
              "  </svg>\n",
              "      </button>\n",
              "      \n",
              "  <style>\n",
              "    .colab-df-container {\n",
              "      display:flex;\n",
              "      flex-wrap:wrap;\n",
              "      gap: 12px;\n",
              "    }\n",
              "\n",
              "    .colab-df-convert {\n",
              "      background-color: #E8F0FE;\n",
              "      border: none;\n",
              "      border-radius: 50%;\n",
              "      cursor: pointer;\n",
              "      display: none;\n",
              "      fill: #1967D2;\n",
              "      height: 32px;\n",
              "      padding: 0 0 0 0;\n",
              "      width: 32px;\n",
              "    }\n",
              "\n",
              "    .colab-df-convert:hover {\n",
              "      background-color: #E2EBFA;\n",
              "      box-shadow: 0px 1px 2px rgba(60, 64, 67, 0.3), 0px 1px 3px 1px rgba(60, 64, 67, 0.15);\n",
              "      fill: #174EA6;\n",
              "    }\n",
              "\n",
              "    [theme=dark] .colab-df-convert {\n",
              "      background-color: #3B4455;\n",
              "      fill: #D2E3FC;\n",
              "    }\n",
              "\n",
              "    [theme=dark] .colab-df-convert:hover {\n",
              "      background-color: #434B5C;\n",
              "      box-shadow: 0px 1px 3px 1px rgba(0, 0, 0, 0.15);\n",
              "      filter: drop-shadow(0px 1px 2px rgba(0, 0, 0, 0.3));\n",
              "      fill: #FFFFFF;\n",
              "    }\n",
              "  </style>\n",
              "\n",
              "      <script>\n",
              "        const buttonEl =\n",
              "          document.querySelector('#df-da58c08a-2a12-423f-8452-e4edf0540d10 button.colab-df-convert');\n",
              "        buttonEl.style.display =\n",
              "          google.colab.kernel.accessAllowed ? 'block' : 'none';\n",
              "\n",
              "        async function convertToInteractive(key) {\n",
              "          const element = document.querySelector('#df-da58c08a-2a12-423f-8452-e4edf0540d10');\n",
              "          const dataTable =\n",
              "            await google.colab.kernel.invokeFunction('convertToInteractive',\n",
              "                                                     [key], {});\n",
              "          if (!dataTable) return;\n",
              "\n",
              "          const docLinkHtml = 'Like what you see? Visit the ' +\n",
              "            '<a target=\"_blank\" href=https://colab.research.google.com/notebooks/data_table.ipynb>data table notebook</a>'\n",
              "            + ' to learn more about interactive tables.';\n",
              "          element.innerHTML = '';\n",
              "          dataTable['output_type'] = 'display_data';\n",
              "          await google.colab.output.renderOutput(dataTable, element);\n",
              "          const docLink = document.createElement('div');\n",
              "          docLink.innerHTML = docLinkHtml;\n",
              "          element.appendChild(docLink);\n",
              "        }\n",
              "      </script>\n",
              "    </div>\n",
              "  </div>\n",
              "  "
            ]
          },
          "metadata": {},
          "execution_count": 3
        }
      ],
      "source": [
        "student_data = pd.DataFrame({'StudentID':[1,2,3,4,5,6,7,8,9,10],'Age': [17,51,27,21,36,48,19,26,54,30], 'Tardies': [10,1,5,9,4,2,9,6,0,3]}).set_index(\"StudentID\")\n",
        "student_data"
      ]
    },
    {
      "cell_type": "markdown",
      "metadata": {
        "id": "GWnXTYl8dwCW"
      },
      "source": [
        "Draw a dispersion diagram (scatter plot) for the data."
      ]
    },
    {
      "cell_type": "code",
      "execution_count": 4,
      "metadata": {
        "colab": {
          "base_uri": "https://localhost:8080/",
          "height": 282
        },
        "id": "eqLEULP2dwCW",
        "outputId": "1cacf576-9c67-41de-8254-3f4bc744f2b7"
      },
      "outputs": [
        {
          "output_type": "execute_result",
          "data": {
            "text/plain": [
              "<function matplotlib.pyplot.show(*args, **kw)>"
            ]
          },
          "metadata": {},
          "execution_count": 4
        },
        {
          "output_type": "display_data",
          "data": {
            "text/plain": [
              "<Figure size 432x288 with 1 Axes>"
            ],
            "image/png": "[encoded data removed]"
          },
          "metadata": {
            "needs_background": "light"
          }
        }
      ],
      "source": [
        "plt.scatter(student_data['Age'],student_data['Tardies'])\n",
        "plt.show\n"
      ]
    },
    {
      "cell_type": "markdown",
      "metadata": {
        "id": "fOeYghT-dwCX"
      },
      "source": [
        "Do you see a trend? Can you make any hypotheses about the relationship between age and number of tardies?"
      ]
    },
    {
      "cell_type": "code",
      "execution_count": 5,
      "metadata": {
        "id": "lzc32Z7WdwCY"
      },
      "outputs": [],
      "source": [
        "#there seems to be a relationship between age and the tardiness of the students\n",
        "#younger students are late"
      ]
    },
    {
      "cell_type": "markdown",
      "metadata": {
        "id": "d_zS_XzYdwCY"
      },
      "source": [
        "Calculate the covariance and correlation of the variables in your plot. What is the difference between these two measures? Compare their values. What do they tell you in this case? Add your responses as comments after your code."
      ]
    },
    {
      "cell_type": "code",
      "execution_count": 6,
      "metadata": {
        "colab": {
          "base_uri": "https://localhost:8080/"
        },
        "id": "ngQNWAcJdwCZ",
        "outputId": "e63e1508-4a8b-429e-8e04-d3dd2c90ffb0"
      },
      "outputs": [
        {
          "output_type": "execute_result",
          "data": {
            "text/plain": [
              "array([[187.65555556, -45.56666667],\n",
              "       [-45.56666667,  12.54444444]])"
            ]
          },
          "metadata": {},
          "execution_count": 6
        }
      ],
      "source": [
        "np.cov(student_data['Age'],student_data['Tardies'])\n",
        "#the relationship between age and tardiness, the increase in age causes a decrease in lateness.\n"
      ]
    },
    {
      "cell_type": "code",
      "execution_count": 7,
      "metadata": {
        "colab": {
          "base_uri": "https://localhost:8080/"
        },
        "id": "ij8NnKp2dwCZ",
        "outputId": "dcd8c699-1e17-41ed-ef4a-b05e8173fafc"
      },
      "outputs": [
        {
          "output_type": "execute_result",
          "data": {
            "text/plain": [
              "array([[ 1.        , -0.93916269],\n",
              "       [-0.93916269,  1.        ]])"
            ]
          },
          "metadata": {},
          "execution_count": 7
        }
      ],
      "source": [
        "np.corrcoef(student_data['Age'],student_data['Tardies'])\n",
        "#almost perfect linear anticorrelation between the two variables, the same result as covariance, the older the more punctual"
      ]
    },
    {
      "cell_type": "markdown",
      "metadata": {
        "id": "P6MGAPfvdwCa"
      },
      "source": [
        "Build a regression model for this data. What will be your outcome variable? What type of regression are you using? Add your responses as comments after your code."
      ]
    },
    {
      "cell_type": "code",
      "execution_count": 10,
      "metadata": {
        "id": "YL1a6El8dwCa"
      },
      "outputs": [],
      "source": [
        "x = student_data[['Age']]\n",
        "y = student_data[['Tardies']]\n",
        "\n",
        "result = linear_model.LinearRegression().fit(x,y)\n",
        "regression_line = result.coef_[0]*x + result.intercept_\n"
      ]
    },
    {
      "cell_type": "markdown",
      "metadata": {
        "id": "A0hD_dm-dwCb"
      },
      "source": [
        "Plot your regression model on your scatter plot."
      ]
    },
    {
      "cell_type": "code",
      "execution_count": 11,
      "metadata": {
        "colab": {
          "base_uri": "https://localhost:8080/",
          "height": 265
        },
        "id": "iG9JgT-6dwCb",
        "outputId": "f72acc43-5a53-45c3-de8a-4a2210debea4"
      },
      "outputs": [
        {
          "output_type": "display_data",
          "data": {
            "text/plain": [
              "<Figure size 432x288 with 1 Axes>"
            ],
            "image/png": "[encoded data removed]"
          },
          "metadata": {
            "needs_background": "light"
          }
        }
      ],
      "source": [
        "# Your code here.\n",
        "plt.plot(x, regression_line, c = 'orange')\n",
        "plt.scatter(x,y)\n",
        "plt.show()"
      ]
    },
    {
      "cell_type": "markdown",
      "metadata": {
        "id": "ZXaRtrgSdwCc"
      },
      "source": [
        "Interpret the results of your model. What can conclusions can you draw from your model and how confident in these conclusions are you? Can we say that age is a good predictor of tardiness? Add your responses as comments after your code."
      ]
    },
    {
      "cell_type": "code",
      "execution_count": 12,
      "metadata": {
        "id": "eXyGfw1IdwCc"
      },
      "outputs": [],
      "source": [
        "# Same error we got in class. In collab worked.\n",
        "#this model shows that older people are rarely old for class, whereas the youngster are more commonly late for class. \n",
        "#we can say that age is a good predictor of the tardiness."
      ]
    },
    {
      "cell_type": "markdown",
      "metadata": {
        "id": "bQRLuMGUdwCd"
      },
      "source": [
        "## Challenge 2\n",
        "For the second part of this lab, we will use the vehicles.csv data set. You can find a copy of the dataset in the git hub folder. This dataset includes variables related to vehicle characteristics, including the model, make, and energy efficiency standards, as well as each car's CO2 emissions. As discussed in class the goal of this exercise is to predict vehicles' CO2 emissions based on several independent variables. "
      ]
    },
    {
      "cell_type": "code",
      "execution_count": 13,
      "metadata": {
        "colab": {
          "base_uri": "https://localhost:8080/",
          "height": 354
        },
        "id": "06L4fBHvdwCd",
        "outputId": "c1b81572-9220-4256-c225-b1faafd567bb"
      },
      "outputs": [
        {
          "output_type": "execute_result",
          "data": {
            "text/plain": [
              "               Make                Model  Year  Engine Displacement  \\\n",
              "0        AM General    DJ Po Vehicle 2WD  1984                  2.5   \n",
              "1        AM General     FJ8c Post Office  1984                  4.2   \n",
              "2        AM General  Post Office DJ5 2WD  1985                  2.5   \n",
              "3        AM General  Post Office DJ8 2WD  1985                  4.2   \n",
              "4  ASC Incorporated                  GNX  1987                  3.8   \n",
              "\n",
              "   Cylinders     Transmission        Drivetrain                Vehicle Class  \\\n",
              "0        4.0  Automatic 3-spd     2-Wheel Drive  Special Purpose Vehicle 2WD   \n",
              "1        6.0  Automatic 3-spd     2-Wheel Drive  Special Purpose Vehicle 2WD   \n",
              "2        4.0  Automatic 3-spd  Rear-Wheel Drive  Special Purpose Vehicle 2WD   \n",
              "3        6.0  Automatic 3-spd  Rear-Wheel Drive  Special Purpose Vehicle 2WD   \n",
              "4        6.0  Automatic 4-spd  Rear-Wheel Drive                 Midsize Cars   \n",
              "\n",
              "  Fuel Type  Fuel Barrels/Year  City MPG  Highway MPG  Combined MPG  \\\n",
              "0   Regular          19.388824        18           17            17   \n",
              "1   Regular          25.354615        13           13            13   \n",
              "2   Regular          20.600625        16           17            16   \n",
              "3   Regular          25.354615        13           13            13   \n",
              "4   Premium          20.600625        14           21            16   \n",
              "\n",
              "   CO2 Emission Grams/Mile  Fuel Cost/Year  \n",
              "0               522.764706            1950  \n",
              "1               683.615385            2550  \n",
              "2               555.437500            2100  \n",
              "3               683.615385            2550  \n",
              "4               555.437500            2550  "
            ],
            "text/html": [
              "\n",
              "  <div id=\"df-492d4737-1104-4976-b148-5453950413e5\">\n",
              "    <div class=\"colab-df-container\">\n",
              "      <div>\n",
              "<style scoped>\n",
              "    .dataframe tbody tr th:only-of-type {\n",
              "        vertical-align: middle;\n",
              "    }\n",
              "\n",
              "    .dataframe tbody tr th {\n",
              "        vertical-align: top;\n",
              "    }\n",
              "\n",
              "    .dataframe thead th {\n",
              "        text-align: right;\n",
              "    }\n",
              "</style>\n",
              "<table border=\"1\" class=\"dataframe\">\n",
              "  <thead>\n",
              "    <tr style=\"text-align: right;\">\n",
              "      <th></th>\n",
              "      <th>Make</th>\n",
              "      <th>Model</th>\n",
              "      <th>Year</th>\n",
              "      <th>Engine Displacement</th>\n",
              "      <th>Cylinders</th>\n",
              "      <th>Transmission</th>\n",
              "      <th>Drivetrain</th>\n",
              "      <th>Vehicle Class</th>\n",
              "      <th>Fuel Type</th>\n",
              "      <th>Fuel Barrels/Year</th>\n",
              "      <th>City MPG</th>\n",
              "      <th>Highway MPG</th>\n",
              "      <th>Combined MPG</th>\n",
              "      <th>CO2 Emission Grams/Mile</th>\n",
              "      <th>Fuel Cost/Year</th>\n",
              "    </tr>\n",
              "  </thead>\n",
              "  <tbody>\n",
              "    <tr>\n",
              "      <th>0</th>\n",
              "      <td>AM General</td>\n",
              "      <td>DJ Po Vehicle 2WD</td>\n",
              "      <td>1984</td>\n",
              "      <td>2.5</td>\n",
              "      <td>4.0</td>\n",
              "      <td>Automatic 3-spd</td>\n",
              "      <td>2-Wheel Drive</td>\n",
              "      <td>Special Purpose Vehicle 2WD</td>\n",
              "      <td>Regular</td>\n",
              "      <td>19.388824</td>\n",
              "      <td>18</td>\n",
              "      <td>17</td>\n",
              "      <td>17</td>\n",
              "      <td>522.764706</td>\n",
              "      <td>1950</td>\n",
              "    </tr>\n",
              "    <tr>\n",
              "      <th>1</th>\n",
              "      <td>AM General</td>\n",
              "      <td>FJ8c Post Office</td>\n",
              "      <td>1984</td>\n",
              "      <td>4.2</td>\n",
              "      <td>6.0</td>\n",
              "      <td>Automatic 3-spd</td>\n",
              "      <td>2-Wheel Drive</td>\n",
              "      <td>Special Purpose Vehicle 2WD</td>\n",
              "      <td>Regular</td>\n",
              "      <td>25.354615</td>\n",
              "      <td>13</td>\n",
              "      <td>13</td>\n",
              "      <td>13</td>\n",
              "      <td>683.615385</td>\n",
              "      <td>2550</td>\n",
              "    </tr>\n",
              "    <tr>\n",
              "      <th>2</th>\n",
              "      <td>AM General</td>\n",
              "      <td>Post Office DJ5 2WD</td>\n",
              "      <td>1985</td>\n",
              "      <td>2.5</td>\n",
              "      <td>4.0</td>\n",
              "      <td>Automatic 3-spd</td>\n",
              "      <td>Rear-Wheel Drive</td>\n",
              "      <td>Special Purpose Vehicle 2WD</td>\n",
              "      <td>Regular</td>\n",
              "      <td>20.600625</td>\n",
              "      <td>16</td>\n",
              "      <td>17</td>\n",
              "      <td>16</td>\n",
              "      <td>555.437500</td>\n",
              "      <td>2100</td>\n",
              "    </tr>\n",
              "    <tr>\n",
              "      <th>3</th>\n",
              "      <td>AM General</td>\n",
              "      <td>Post Office DJ8 2WD</td>\n",
              "      <td>1985</td>\n",
              "      <td>4.2</td>\n",
              "      <td>6.0</td>\n",
              "      <td>Automatic 3-spd</td>\n",
              "      <td>Rear-Wheel Drive</td>\n",
              "      <td>Special Purpose Vehicle 2WD</td>\n",
              "      <td>Regular</td>\n",
              "      <td>25.354615</td>\n",
              "      <td>13</td>\n",
              "      <td>13</td>\n",
              "      <td>13</td>\n",
              "      <td>683.615385</td>\n",
              "      <td>2550</td>\n",
              "    </tr>\n",
              "    <tr>\n",
              "      <th>4</th>\n",
              "      <td>ASC Incorporated</td>\n",
              "      <td>GNX</td>\n",
              "      <td>1987</td>\n",
              "      <td>3.8</td>\n",
              "      <td>6.0</td>\n",
              "      <td>Automatic 4-spd</td>\n",
              "      <td>Rear-Wheel Drive</td>\n",
              "      <td>Midsize Cars</td>\n",
              "      <td>Premium</td>\n",
              "      <td>20.600625</td>\n",
              "      <td>14</td>\n",
              "      <td>21</td>\n",
              "      <td>16</td>\n",
              "      <td>555.437500</td>\n",
              "      <td>2550</td>\n",
              "    </tr>\n",
              "  </tbody>\n",
              "</table>\n",
              "</div>\n",
              "      <button class=\"colab-df-convert\" onclick=\"convertToInteractive('df-492d4737-1104-4976-b148-5453950413e5')\"\n",
              "              title=\"Convert this dataframe to an interactive table.\"\n",
              "              style=\"display:none;\">\n",
              "        \n",
              "  <svg xmlns=\"http://www.w3.org/2000/svg\" height=\"24px\"viewBox=\"0 0 24 24\"\n",
              "       width=\"24px\">\n",
              "    <path d=\"M0 0h24v24H0V0z\" fill=\"none\"/>\n",
              "    <path d=\"M18.56 5.44l.94 2.06.94-2.06 2.06-.94-2.06-.94-.94-2.06-.94 2.06-2.06.94zm-11 1L8.5 8.5l.94-2.06 2.06-.94-2.06-.94L8.5 2.5l-.94 2.06-2.06.94zm10 10l.94 2.06.94-2.06 2.06-.94-2.06-.94-.94-2.06-.94 2.06-2.06.94z\"/><path d=\"M17.41 7.96l-1.37-1.37c-.4-.4-.92-.59-1.43-.59-.52 0-1.04.2-1.43.59L10.3 9.45l-7.72 7.72c-.78.78-.78 2.05 0 2.83L4 21.41c.39.39.9.59 1.41.59.51 0 1.02-.2 1.41-.59l7.78-7.78 2.81-2.81c.8-.78.8-2.07 0-2.86zM5.41 20L4 18.59l7.72-7.72 1.47 1.35L5.41 20z\"/>\n",
              "  </svg>\n",
              "      </button>\n",
              "      \n",
              "  <style>\n",
              "    .colab-df-container {\n",
              "      display:flex;\n",
              "      flex-wrap:wrap;\n",
              "      gap: 12px;\n",
              "    }\n",
              "\n",
              "    .colab-df-convert {\n",
              "      background-color: #E8F0FE;\n",
              "      border: none;\n",
              "      border-radius: 50%;\n",
              "      cursor: pointer;\n",
              "      display: none;\n",
              "      fill: #1967D2;\n",
              "      height: 32px;\n",
              "      padding: 0 0 0 0;\n",
              "      width: 32px;\n",
              "    }\n",
              "\n",
              "    .colab-df-convert:hover {\n",
              "      background-color: #E2EBFA;\n",
              "      box-shadow: 0px 1px 2px rgba(60, 64, 67, 0.3), 0px 1px 3px 1px rgba(60, 64, 67, 0.15);\n",
              "      fill: #174EA6;\n",
              "    }\n",
              "\n",
              "    [theme=dark] .colab-df-convert {\n",
              "      background-color: #3B4455;\n",
              "      fill: #D2E3FC;\n",
              "    }\n",
              "\n",
              "    [theme=dark] .colab-df-convert:hover {\n",
              "      background-color: #434B5C;\n",
              "      box-shadow: 0px 1px 3px 1px rgba(0, 0, 0, 0.15);\n",
              "      filter: drop-shadow(0px 1px 2px rgba(0, 0, 0, 0.3));\n",
              "      fill: #FFFFFF;\n",
              "    }\n",
              "  </style>\n",
              "\n",
              "      <script>\n",
              "        const buttonEl =\n",
              "          document.querySelector('#df-492d4737-1104-4976-b148-5453950413e5 button.colab-df-convert');\n",
              "        buttonEl.style.display =\n",
              "          google.colab.kernel.accessAllowed ? 'block' : 'none';\n",
              "\n",
              "        async function convertToInteractive(key) {\n",
              "          const element = document.querySelector('#df-492d4737-1104-4976-b148-5453950413e5');\n",
              "          const dataTable =\n",
              "            await google.colab.kernel.invokeFunction('convertToInteractive',\n",
              "                                                     [key], {});\n",
              "          if (!dataTable) return;\n",
              "\n",
              "          const docLinkHtml = 'Like what you see? Visit the ' +\n",
              "            '<a target=\"_blank\" href=https://colab.research.google.com/notebooks/data_table.ipynb>data table notebook</a>'\n",
              "            + ' to learn more about interactive tables.';\n",
              "          element.innerHTML = '';\n",
              "          dataTable['output_type'] = 'display_data';\n",
              "          await google.colab.output.renderOutput(dataTable, element);\n",
              "          const docLink = document.createElement('div');\n",
              "          docLink.innerHTML = docLinkHtml;\n",
              "          element.appendChild(docLink);\n",
              "        }\n",
              "      </script>\n",
              "    </div>\n",
              "  </div>\n",
              "  "
            ]
          },
          "metadata": {},
          "execution_count": 13
        }
      ],
      "source": [
        "vehicles = pd.read_csv('vehicles.csv')\n",
        "vehicles.head()"
      ]
    },
    {
      "cell_type": "markdown",
      "metadata": {
        "id": "uM3klMygdwCd"
      },
      "source": [
        "Let's use the following variables for our analysis: Year, Cylinders, Fuel Barrels/Year, Combined MPG, and Fuel Cost/Year. We will use 'CO2 Emission Grams/Mile' as our outcome variable. \n",
        "\n",
        "Calculate the correlations between each of these variables and the outcome. Which variable do you think will be the most important in determining CO2 emissions? Which provides the least amount of helpful information for determining CO2 emissions? Add your responses as comments after your code."
      ]
    },
    {
      "cell_type": "code",
      "execution_count": 14,
      "metadata": {
        "colab": {
          "base_uri": "https://localhost:8080/",
          "height": 81
        },
        "id": "KXRQMamldwCe",
        "outputId": "a69023a6-a300-4256-be9f-c415ffc08ae4"
      },
      "outputs": [
        {
          "output_type": "execute_result",
          "data": {
            "text/plain": [
              "       Year  Cylinders  Fuel Barrels/Year  Combined MPG  Fuel Cost/Year  \\\n",
              "29129  2013        6.0          14.982273            22            1850   \n",
              "\n",
              "       CO2 Emission Grams/Mile  \n",
              "29129                    407.0  "
            ],
            "text/html": [
              "\n",
              "  <div id=\"df-0c1d97e8-6750-428b-b483-aeec18dcd186\">\n",
              "    <div class=\"colab-df-container\">\n",
              "      <div>\n",
              "<style scoped>\n",
              "    .dataframe tbody tr th:only-of-type {\n",
              "        vertical-align: middle;\n",
              "    }\n",
              "\n",
              "    .dataframe tbody tr th {\n",
              "        vertical-align: top;\n",
              "    }\n",
              "\n",
              "    .dataframe thead th {\n",
              "        text-align: right;\n",
              "    }\n",
              "</style>\n",
              "<table border=\"1\" class=\"dataframe\">\n",
              "  <thead>\n",
              "    <tr style=\"text-align: right;\">\n",
              "      <th></th>\n",
              "      <th>Year</th>\n",
              "      <th>Cylinders</th>\n",
              "      <th>Fuel Barrels/Year</th>\n",
              "      <th>Combined MPG</th>\n",
              "      <th>Fuel Cost/Year</th>\n",
              "      <th>CO2 Emission Grams/Mile</th>\n",
              "    </tr>\n",
              "  </thead>\n",
              "  <tbody>\n",
              "    <tr>\n",
              "      <th>29129</th>\n",
              "      <td>2013</td>\n",
              "      <td>6.0</td>\n",
              "      <td>14.982273</td>\n",
              "      <td>22</td>\n",
              "      <td>1850</td>\n",
              "      <td>407.0</td>\n",
              "    </tr>\n",
              "  </tbody>\n",
              "</table>\n",
              "</div>\n",
              "      <button class=\"colab-df-convert\" onclick=\"convertToInteractive('df-0c1d97e8-6750-428b-b483-aeec18dcd186')\"\n",
              "              title=\"Convert this dataframe to an interactive table.\"\n",
              "              style=\"display:none;\">\n",
              "        \n",
              "  <svg xmlns=\"http://www.w3.org/2000/svg\" height=\"24px\"viewBox=\"0 0 24 24\"\n",
              "       width=\"24px\">\n",
              "    <path d=\"M0 0h24v24H0V0z\" fill=\"none\"/>\n",
              "    <path d=\"M18.56 5.44l.94 2.06.94-2.06 2.06-.94-2.06-.94-.94-2.06-.94 2.06-2.06.94zm-11 1L8.5 8.5l.94-2.06 2.06-.94-2.06-.94L8.5 2.5l-.94 2.06-2.06.94zm10 10l.94 2.06.94-2.06 2.06-.94-2.06-.94-.94-2.06-.94 2.06-2.06.94z\"/><path d=\"M17.41 7.96l-1.37-1.37c-.4-.4-.92-.59-1.43-.59-.52 0-1.04.2-1.43.59L10.3 9.45l-7.72 7.72c-.78.78-.78 2.05 0 2.83L4 21.41c.39.39.9.59 1.41.59.51 0 1.02-.2 1.41-.59l7.78-7.78 2.81-2.81c.8-.78.8-2.07 0-2.86zM5.41 20L4 18.59l7.72-7.72 1.47 1.35L5.41 20z\"/>\n",
              "  </svg>\n",
              "      </button>\n",
              "      \n",
              "  <style>\n",
              "    .colab-df-container {\n",
              "      display:flex;\n",
              "      flex-wrap:wrap;\n",
              "      gap: 12px;\n",
              "    }\n",
              "\n",
              "    .colab-df-convert {\n",
              "      background-color: #E8F0FE;\n",
              "      border: none;\n",
              "      border-radius: 50%;\n",
              "      cursor: pointer;\n",
              "      display: none;\n",
              "      fill: #1967D2;\n",
              "      height: 32px;\n",
              "      padding: 0 0 0 0;\n",
              "      width: 32px;\n",
              "    }\n",
              "\n",
              "    .colab-df-convert:hover {\n",
              "      background-color: #E2EBFA;\n",
              "      box-shadow: 0px 1px 2px rgba(60, 64, 67, 0.3), 0px 1px 3px 1px rgba(60, 64, 67, 0.15);\n",
              "      fill: #174EA6;\n",
              "    }\n",
              "\n",
              "    [theme=dark] .colab-df-convert {\n",
              "      background-color: #3B4455;\n",
              "      fill: #D2E3FC;\n",
              "    }\n",
              "\n",
              "    [theme=dark] .colab-df-convert:hover {\n",
              "      background-color: #434B5C;\n",
              "      box-shadow: 0px 1px 3px 1px rgba(0, 0, 0, 0.15);\n",
              "      filter: drop-shadow(0px 1px 2px rgba(0, 0, 0, 0.3));\n",
              "      fill: #FFFFFF;\n",
              "    }\n",
              "  </style>\n",
              "\n",
              "      <script>\n",
              "        const buttonEl =\n",
              "          document.querySelector('#df-0c1d97e8-6750-428b-b483-aeec18dcd186 button.colab-df-convert');\n",
              "        buttonEl.style.display =\n",
              "          google.colab.kernel.accessAllowed ? 'block' : 'none';\n",
              "\n",
              "        async function convertToInteractive(key) {\n",
              "          const element = document.querySelector('#df-0c1d97e8-6750-428b-b483-aeec18dcd186');\n",
              "          const dataTable =\n",
              "            await google.colab.kernel.invokeFunction('convertToInteractive',\n",
              "                                                     [key], {});\n",
              "          if (!dataTable) return;\n",
              "\n",
              "          const docLinkHtml = 'Like what you see? Visit the ' +\n",
              "            '<a target=\"_blank\" href=https://colab.research.google.com/notebooks/data_table.ipynb>data table notebook</a>'\n",
              "            + ' to learn more about interactive tables.';\n",
              "          element.innerHTML = '';\n",
              "          dataTable['output_type'] = 'display_data';\n",
              "          await google.colab.output.renderOutput(dataTable, element);\n",
              "          const docLink = document.createElement('div');\n",
              "          docLink.innerHTML = docLinkHtml;\n",
              "          element.appendChild(docLink);\n",
              "        }\n",
              "      </script>\n",
              "    </div>\n",
              "  </div>\n",
              "  "
            ]
          },
          "metadata": {},
          "execution_count": 14
        }
      ],
      "source": [
        "# Your response here. \n",
        "vehicles_2 = vehicles[['Year', 'Cylinders', 'Fuel Barrels/Year', 'Combined MPG', 'Fuel Cost/Year','CO2 Emission Grams/Mile']]\n",
        "vehicles_2.sample()"
      ]
    },
    {
      "cell_type": "markdown",
      "metadata": {
        "id": "gr-vJrxSdwCf"
      },
      "source": [
        "Build a regression model for this data. What type of regression are you using? Add your responses as comments after your code."
      ]
    },
    {
      "cell_type": "code",
      "execution_count": 15,
      "metadata": {
        "colab": {
          "base_uri": "https://localhost:8080/",
          "height": 405
        },
        "id": "WZHzEWAfdwCf",
        "outputId": "564ae2c0-404a-4605-f065-d6b15ac85fc9"
      },
      "outputs": [
        {
          "output_type": "execute_result",
          "data": {
            "text/plain": [
              "<matplotlib.axes._subplots.AxesSubplot at 0x7fd282534550>"
            ]
          },
          "metadata": {},
          "execution_count": 15
        },
        {
          "output_type": "display_data",
          "data": {
            "text/plain": [
              "<Figure size 432x288 with 2 Axes>"
            ],
            "image/png": "[encoded data removed]"
          },
          "metadata": {
            "needs_background": "light"
          }
        }
      ],
      "source": [
        "# Your response here. \n",
        "sns.heatmap(vehicles_2.corr(),annot=True)\n",
        "# Fuel Barrels/year has a strong correlation with CO2 emissions - cause/effect relationship\n",
        "#Combined MPG has strong countercorrelation with CO2, Fuel Barrel and Fuel cost\n",
        "# Year has a strong countercorrelation with Fuel Cost - maybe because olders cars pollute more than new ones?"
      ]
    },
    {
      "cell_type": "code",
      "execution_count": 16,
      "metadata": {
        "colab": {
          "base_uri": "https://localhost:8080/"
        },
        "id": "XfOdNeuVdwCg",
        "outputId": "e409bf98-15a8-4a65-e89c-e81bdda12b8e"
      },
      "outputs": [
        {
          "output_type": "stream",
          "name": "stdout",
          "text": [
            "0.9725680773391495\n"
          ]
        }
      ],
      "source": [
        "x = vehicles[['Fuel Barrels/Year']]\n",
        "y = vehicles[['CO2 Emission Grams/Mile']]\n",
        "\n",
        "model = linear_model.LinearRegression()\n",
        "result = model.fit(x,y)\n",
        "print(result.score(x,y))"
      ]
    },
    {
      "cell_type": "markdown",
      "metadata": {
        "id": "BS8cea8NdwCg"
      },
      "source": [
        "Print your regression summary, and interpret the results. What are the most important varibles in your model and why? What can conclusions can you draw from your model and how confident in these conclusions are you? Add your responses as comments after your code."
      ]
    },
    {
      "cell_type": "code",
      "execution_count": 17,
      "metadata": {
        "id": "t6JgyhhZdwCh"
      },
      "outputs": [],
      "source": [
        "#I used Fuels barrels per year and CO2 emissions per mile and the result is 97% which is ok."
      ]
    },
    {
      "cell_type": "markdown",
      "metadata": {
        "id": "1tsEcQchdwCh"
      },
      "source": [
        "## Challenge 2: Error Analysis"
      ]
    },
    {
      "cell_type": "markdown",
      "metadata": {
        "id": "pT6lW67mdwCh"
      },
      "source": [
        "I am suspicious about the last few parties I have thrown: it seems that the more people I invite the more people are unable to attend. To know if my hunch is supported by data, I have decided to do an analysis. I have collected my data in the table below, where X is the number of people I invited, and Y is the number of people who attended. \n",
        "\n",
        "|  X |  Y |\n",
        "|----|----|\n",
        "| 1  |  1 |\n",
        "| 3  |  2 |\n",
        "| 4  |  4 |\n",
        "| 6  |  4 |\n",
        "| 8  |  5 |\n",
        "| 9  |  7 |\n",
        "| 11 |  8 |\n",
        "| 14 |  13 |"
      ]
    },
    {
      "cell_type": "markdown",
      "metadata": {
        "id": "D8pln81ZdwCh"
      },
      "source": [
        "We want to know if the relationship modeled by the two random variables is linear or not, and therefore if it is appropriate to model it with a linear regression. \n",
        "First, build a dataframe with the data. "
      ]
    },
    {
      "cell_type": "code",
      "execution_count": 18,
      "metadata": {
        "id": "N8PVJNYYdwCi"
      },
      "outputs": [],
      "source": [
        "party_analysis = pd.DataFrame({'X': [1,3,4,6,8,9,11,14], 'Y': [1,2,4,4,5,7,8,13]})"
      ]
    },
    {
      "cell_type": "markdown",
      "metadata": {
        "id": "daOh7eRrdwCi"
      },
      "source": [
        "Draw a dispersion diagram (scatter plot) for the data, and fit a regression line."
      ]
    },
    {
      "cell_type": "code",
      "execution_count": 29,
      "metadata": {
        "colab": {
          "base_uri": "https://localhost:8080/",
          "height": 265
        },
        "id": "8S1GrQ7SdwCi",
        "outputId": "05df8c3a-9859-414f-8335-71a73a260b0c"
      },
      "outputs": [
        {
          "output_type": "display_data",
          "data": {
            "text/plain": [
              "<Figure size 432x288 with 1 Axes>"
            ],
            "image/png": "[encoded data removed]"
          },
          "metadata": {
            "needs_background": "light"
          }
        }
      ],
      "source": [
        "x = party_analysis[['X']]\n",
        "y = party_analysis[['Y']]\n",
        "model = linear_model.LinearRegression()\n",
        "result = model.fit(x,y)\n",
        "regression_line = result.intercept_ + result.coef_[0]*x\n",
        "\n",
        "plt.plot(x, regression_line, c='red')\n",
        "plt.scatter(x,y)\n",
        "plt.show()"
      ]
    },
    {
      "cell_type": "markdown",
      "metadata": {
        "id": "DkJ4RwLjdwCj"
      },
      "source": [
        "What do you see? What does this plot tell you about the likely relationship between the variables? Print the results from your regression."
      ]
    },
    {
      "cell_type": "code",
      "execution_count": 27,
      "metadata": {
        "colab": {
          "base_uri": "https://localhost:8080/",
          "height": 52
        },
        "id": "x1Tk6mI6dwCj",
        "outputId": "77d90439-3d9d-4f88-f1ad-2daef4fad32d"
      },
      "outputs": [
        {
          "output_type": "display_data",
          "data": {
            "text/plain": [
              "array([-0.43939394])"
            ]
          },
          "metadata": {}
        },
        {
          "output_type": "display_data",
          "data": {
            "text/plain": [
              "array([[0.84848485]])"
            ]
          },
          "metadata": {}
        }
      ],
      "source": [
        "# Your response here. \n",
        "display(result.intercept_, result.coef_)"
      ]
    },
    {
      "cell_type": "code",
      "execution_count": 28,
      "metadata": {
        "colab": {
          "base_uri": "https://localhost:8080/"
        },
        "id": "0At0fE7vdwCj",
        "outputId": "567d07d0-1633-496e-d895-8916717218c5"
      },
      "outputs": [
        {
          "output_type": "stream",
          "name": "stdout",
          "text": [
            "0.9316696375519905\n"
          ]
        }
      ],
      "source": [
        "print(result.score(x,y))"
      ]
    },
    {
      "cell_type": "code",
      "execution_count": 30,
      "metadata": {
        "id": "-l7JHl3MdwCk"
      },
      "outputs": [],
      "source": [
        "#The result shows a relationship between invites and absents, the more invitations the more absents."
      ]
    },
    {
      "cell_type": "markdown",
      "metadata": {
        "id": "xu9OmR0XdwCk"
      },
      "source": [
        "Do you see any problematic points, or outliers, in your data? Remove these points and recalculate your regression. Print the new dispersion diagram with your new model and the results of your model. "
      ]
    },
    {
      "cell_type": "code",
      "execution_count": 34,
      "metadata": {
        "colab": {
          "base_uri": "https://localhost:8080/",
          "height": 265
        },
        "id": "Qoy7HRF5dwCk",
        "outputId": "aeaf499f-86d6-4405-ea04-692d2cc55f80"
      },
      "outputs": [
        {
          "output_type": "display_data",
          "data": {
            "text/plain": [
              "<Figure size 432x288 with 1 Axes>"
            ],
            "image/png": "[encoded data removed]"
          },
          "metadata": {
            "needs_background": "light"
          }
        }
      ],
      "source": [
        "party_2 = pd.DataFrame({'X': [1,3,4,6,8,9,11], 'Y': [1,2,4,4,5,7,8]})\n",
        "x = party_2[['X']]\n",
        "y = party_2[['Y']]\n",
        "\n",
        "model = linear_model.LinearRegression()\n",
        "result = model.fit(x,y)\n",
        "regression_line = result.intercept_ + result.coef_[0]*x\n",
        "plt.plot(x, regression_line, c = 'green')\n",
        "plt.scatter(x,y)\n",
        "plt.show()"
      ]
    },
    {
      "cell_type": "code",
      "execution_count": 35,
      "metadata": {
        "colab": {
          "base_uri": "https://localhost:8080/"
        },
        "id": "ujkjMa1tdwCk",
        "outputId": "e4e40956-dded-4f17-934e-695c136b51bb"
      },
      "outputs": [
        {
          "output_type": "stream",
          "name": "stdout",
          "text": [
            "0.9433811802232855\n"
          ]
        }
      ],
      "source": [
        "print(result.score(x,y))"
      ]
    },
    {
      "cell_type": "markdown",
      "metadata": {
        "id": "PtWD1yOadwCl"
      },
      "source": [
        "What changed? Based on the results of the two models and your graphs, what can you say about the form of the data with the problematic point and without it?"
      ]
    },
    {
      "cell_type": "code",
      "execution_count": 36,
      "metadata": {
        "id": "TTeXsXTxdwCl"
      },
      "outputs": [],
      "source": [
        "#When the highest score which was an outlier was removed, the model improved.\n",
        "# The conclusion remains the same, the more invitations are sent the more absents will be at the parties.\n"
      ]
    }
  ],
  "metadata": {
    "kernelspec": {
      "display_name": "Python 3.9.12 ('base')",
      "language": "python",
      "name": "python3"
    },
    "language_info": {
      "codemirror_mode": {
        "name": "ipython",
        "version": 3
      },
      "file_extension": ".py",
      "mimetype": "text/x-python",
      "name": "python",
      "nbconvert_exporter": "python",
      "pygments_lexer": "ipython3",
      "version": "3.9.12"
    },
    "vscode": {
      "interpreter": {
        "hash": "61d36792ea99f4e5cdbfb7bb2bce83117e6c7ecc98e4769f78aea598c36d8ca7"
      }
    },
    "colab": {
      "provenance": []
    }
  },
  "nbformat": 4,
  "nbformat_minor": 0
}